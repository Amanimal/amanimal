{
 "cells": [
  {
   "cell_type": "code",
   "execution_count": 1,
   "id": "c421533c",
   "metadata": {
    "_cell_guid": "b1076dfc-b9ad-4769-8c92-a6c4dae69d19",
    "_uuid": "8f2839f25d086af736a60e9eeb907d3b93b6e0e5",
    "execution": {
     "iopub.execute_input": "2023-06-15T11:30:29.180798Z",
     "iopub.status.busy": "2023-06-15T11:30:29.180348Z",
     "iopub.status.idle": "2023-06-15T11:30:40.493419Z",
     "shell.execute_reply": "2023-06-15T11:30:40.492071Z"
    },
    "papermill": {
     "duration": 11.321938,
     "end_time": "2023-06-15T11:30:40.495666",
     "exception": false,
     "start_time": "2023-06-15T11:30:29.173728",
     "status": "completed"
    },
    "tags": []
   },
   "outputs": [
    {
     "name": "stderr",
     "output_type": "stream",
     "text": [
      "/opt/conda/lib/python3.10/site-packages/tensorflow_io/python/ops/__init__.py:98: UserWarning: unable to load libtensorflow_io_plugins.so: unable to open file: libtensorflow_io_plugins.so, from paths: ['/opt/conda/lib/python3.10/site-packages/tensorflow_io/python/ops/libtensorflow_io_plugins.so']\n",
      "caused by: ['/opt/conda/lib/python3.10/site-packages/tensorflow_io/python/ops/libtensorflow_io_plugins.so: undefined symbol: _ZN3tsl6StatusC1EN10tensorflow5error4CodeESt17basic_string_viewIcSt11char_traitsIcEENS_14SourceLocationE']\n",
      "  warnings.warn(f\"unable to load libtensorflow_io_plugins.so: {e}\")\n",
      "/opt/conda/lib/python3.10/site-packages/tensorflow_io/python/ops/__init__.py:104: UserWarning: file system plugins are not loaded: unable to open file: libtensorflow_io.so, from paths: ['/opt/conda/lib/python3.10/site-packages/tensorflow_io/python/ops/libtensorflow_io.so']\n",
      "caused by: ['/opt/conda/lib/python3.10/site-packages/tensorflow_io/python/ops/libtensorflow_io.so: undefined symbol: _ZTVN10tensorflow13GcsFileSystemE']\n",
      "  warnings.warn(f\"file system plugins are not loaded: {e}\")\n"
     ]
    },
    {
     "name": "stdout",
     "output_type": "stream",
     "text": [
      "TensorFlow version: 2.12.0\n",
      "PyTorch version: 2.0.0\n",
      "/kaggle/input/web-page-phishing-detection-dataset/dataset_phishing.csv\n"
     ]
    }
   ],
   "source": [
    "import numpy as np \n",
    "import pandas as pd \n",
    "import tensorflow as tf\n",
    "import torch\n",
    "\n",
    "print(\"TensorFlow version:\", tf.__version__)\n",
    "print(\"PyTorch version:\", torch.__version__)\n",
    "\n",
    "import os\n",
    "for dirname, _, filenames in os.walk('/kaggle/input'):\n",
    "    for filename in filenames:\n",
    "        print(os.path.join(dirname, filename))"
   ]
  },
  {
   "cell_type": "code",
   "execution_count": 2,
   "id": "ed388bd7",
   "metadata": {
    "execution": {
     "iopub.execute_input": "2023-06-15T11:30:40.506982Z",
     "iopub.status.busy": "2023-06-15T11:30:40.506275Z",
     "iopub.status.idle": "2023-06-15T11:30:40.693587Z",
     "shell.execute_reply": "2023-06-15T11:30:40.692664Z"
    },
    "papermill": {
     "duration": 0.195277,
     "end_time": "2023-06-15T11:30:40.695808",
     "exception": false,
     "start_time": "2023-06-15T11:30:40.500531",
     "status": "completed"
    },
    "tags": []
   },
   "outputs": [
    {
     "data": {
      "text/html": [
       "<div>\n",
       "<style scoped>\n",
       "    .dataframe tbody tr th:only-of-type {\n",
       "        vertical-align: middle;\n",
       "    }\n",
       "\n",
       "    .dataframe tbody tr th {\n",
       "        vertical-align: top;\n",
       "    }\n",
       "\n",
       "    .dataframe thead th {\n",
       "        text-align: right;\n",
       "    }\n",
       "</style>\n",
       "<table border=\"1\" class=\"dataframe\">\n",
       "  <thead>\n",
       "    <tr style=\"text-align: right;\">\n",
       "      <th></th>\n",
       "      <th>url</th>\n",
       "      <th>length_url</th>\n",
       "      <th>length_hostname</th>\n",
       "      <th>ip</th>\n",
       "      <th>nb_dots</th>\n",
       "      <th>nb_hyphens</th>\n",
       "      <th>nb_at</th>\n",
       "      <th>nb_qm</th>\n",
       "      <th>nb_and</th>\n",
       "      <th>nb_or</th>\n",
       "      <th>...</th>\n",
       "      <th>domain_in_title</th>\n",
       "      <th>domain_with_copyright</th>\n",
       "      <th>whois_registered_domain</th>\n",
       "      <th>domain_registration_length</th>\n",
       "      <th>domain_age</th>\n",
       "      <th>web_traffic</th>\n",
       "      <th>dns_record</th>\n",
       "      <th>google_index</th>\n",
       "      <th>page_rank</th>\n",
       "      <th>status</th>\n",
       "    </tr>\n",
       "  </thead>\n",
       "  <tbody>\n",
       "    <tr>\n",
       "      <th>0</th>\n",
       "      <td>http://www.crestonwood.com/router.php</td>\n",
       "      <td>37</td>\n",
       "      <td>19</td>\n",
       "      <td>0</td>\n",
       "      <td>3</td>\n",
       "      <td>0</td>\n",
       "      <td>0</td>\n",
       "      <td>0</td>\n",
       "      <td>0</td>\n",
       "      <td>0</td>\n",
       "      <td>...</td>\n",
       "      <td>0</td>\n",
       "      <td>1</td>\n",
       "      <td>0</td>\n",
       "      <td>45</td>\n",
       "      <td>-1</td>\n",
       "      <td>0</td>\n",
       "      <td>1</td>\n",
       "      <td>1</td>\n",
       "      <td>4</td>\n",
       "      <td>legitimate</td>\n",
       "    </tr>\n",
       "    <tr>\n",
       "      <th>1</th>\n",
       "      <td>http://shadetreetechnology.com/V4/validation/a...</td>\n",
       "      <td>77</td>\n",
       "      <td>23</td>\n",
       "      <td>1</td>\n",
       "      <td>1</td>\n",
       "      <td>0</td>\n",
       "      <td>0</td>\n",
       "      <td>0</td>\n",
       "      <td>0</td>\n",
       "      <td>0</td>\n",
       "      <td>...</td>\n",
       "      <td>1</td>\n",
       "      <td>0</td>\n",
       "      <td>0</td>\n",
       "      <td>77</td>\n",
       "      <td>5767</td>\n",
       "      <td>0</td>\n",
       "      <td>0</td>\n",
       "      <td>1</td>\n",
       "      <td>2</td>\n",
       "      <td>phishing</td>\n",
       "    </tr>\n",
       "    <tr>\n",
       "      <th>2</th>\n",
       "      <td>https://support-appleld.com.secureupdate.duila...</td>\n",
       "      <td>126</td>\n",
       "      <td>50</td>\n",
       "      <td>1</td>\n",
       "      <td>4</td>\n",
       "      <td>1</td>\n",
       "      <td>0</td>\n",
       "      <td>1</td>\n",
       "      <td>2</td>\n",
       "      <td>0</td>\n",
       "      <td>...</td>\n",
       "      <td>1</td>\n",
       "      <td>0</td>\n",
       "      <td>0</td>\n",
       "      <td>14</td>\n",
       "      <td>4004</td>\n",
       "      <td>5828815</td>\n",
       "      <td>0</td>\n",
       "      <td>1</td>\n",
       "      <td>0</td>\n",
       "      <td>phishing</td>\n",
       "    </tr>\n",
       "    <tr>\n",
       "      <th>3</th>\n",
       "      <td>http://rgipt.ac.in</td>\n",
       "      <td>18</td>\n",
       "      <td>11</td>\n",
       "      <td>0</td>\n",
       "      <td>2</td>\n",
       "      <td>0</td>\n",
       "      <td>0</td>\n",
       "      <td>0</td>\n",
       "      <td>0</td>\n",
       "      <td>0</td>\n",
       "      <td>...</td>\n",
       "      <td>1</td>\n",
       "      <td>0</td>\n",
       "      <td>0</td>\n",
       "      <td>62</td>\n",
       "      <td>-1</td>\n",
       "      <td>107721</td>\n",
       "      <td>0</td>\n",
       "      <td>0</td>\n",
       "      <td>3</td>\n",
       "      <td>legitimate</td>\n",
       "    </tr>\n",
       "    <tr>\n",
       "      <th>4</th>\n",
       "      <td>http://www.iracing.com/tracks/gateway-motorspo...</td>\n",
       "      <td>55</td>\n",
       "      <td>15</td>\n",
       "      <td>0</td>\n",
       "      <td>2</td>\n",
       "      <td>2</td>\n",
       "      <td>0</td>\n",
       "      <td>0</td>\n",
       "      <td>0</td>\n",
       "      <td>0</td>\n",
       "      <td>...</td>\n",
       "      <td>0</td>\n",
       "      <td>1</td>\n",
       "      <td>0</td>\n",
       "      <td>224</td>\n",
       "      <td>8175</td>\n",
       "      <td>8725</td>\n",
       "      <td>0</td>\n",
       "      <td>0</td>\n",
       "      <td>6</td>\n",
       "      <td>legitimate</td>\n",
       "    </tr>\n",
       "  </tbody>\n",
       "</table>\n",
       "<p>5 rows × 89 columns</p>\n",
       "</div>"
      ],
      "text/plain": [
       "                                                 url  length_url  \\\n",
       "0              http://www.crestonwood.com/router.php          37   \n",
       "1  http://shadetreetechnology.com/V4/validation/a...          77   \n",
       "2  https://support-appleld.com.secureupdate.duila...         126   \n",
       "3                                 http://rgipt.ac.in          18   \n",
       "4  http://www.iracing.com/tracks/gateway-motorspo...          55   \n",
       "\n",
       "   length_hostname  ip  nb_dots  nb_hyphens  nb_at  nb_qm  nb_and  nb_or  ...  \\\n",
       "0               19   0        3           0      0      0       0      0  ...   \n",
       "1               23   1        1           0      0      0       0      0  ...   \n",
       "2               50   1        4           1      0      1       2      0  ...   \n",
       "3               11   0        2           0      0      0       0      0  ...   \n",
       "4               15   0        2           2      0      0       0      0  ...   \n",
       "\n",
       "   domain_in_title  domain_with_copyright  whois_registered_domain  \\\n",
       "0                0                      1                        0   \n",
       "1                1                      0                        0   \n",
       "2                1                      0                        0   \n",
       "3                1                      0                        0   \n",
       "4                0                      1                        0   \n",
       "\n",
       "   domain_registration_length  domain_age  web_traffic  dns_record  \\\n",
       "0                          45          -1            0           1   \n",
       "1                          77        5767            0           0   \n",
       "2                          14        4004      5828815           0   \n",
       "3                          62          -1       107721           0   \n",
       "4                         224        8175         8725           0   \n",
       "\n",
       "   google_index  page_rank      status  \n",
       "0             1          4  legitimate  \n",
       "1             1          2    phishing  \n",
       "2             1          0    phishing  \n",
       "3             0          3  legitimate  \n",
       "4             0          6  legitimate  \n",
       "\n",
       "[5 rows x 89 columns]"
      ]
     },
     "execution_count": 2,
     "metadata": {},
     "output_type": "execute_result"
    }
   ],
   "source": [
    "filename = '/kaggle/input/web-page-phishing-detection-dataset/dataset_phishing.csv'\n",
    "\n",
    "df = pd.read_csv(filename)\n",
    "df.head()"
   ]
  },
  {
   "cell_type": "code",
   "execution_count": 3,
   "id": "b4f7d3fa",
   "metadata": {
    "execution": {
     "iopub.execute_input": "2023-06-15T11:30:40.708220Z",
     "iopub.status.busy": "2023-06-15T11:30:40.707182Z",
     "iopub.status.idle": "2023-06-15T11:30:40.726169Z",
     "shell.execute_reply": "2023-06-15T11:30:40.725074Z"
    },
    "papermill": {
     "duration": 0.027053,
     "end_time": "2023-06-15T11:30:40.728325",
     "exception": false,
     "start_time": "2023-06-15T11:30:40.701272",
     "status": "completed"
    },
    "tags": []
   },
   "outputs": [
    {
     "name": "stdout",
     "output_type": "stream",
     "text": [
      "Dataframe columns taken as X input :\n",
      "------------------------------------\n",
      " [[ 37.  19.   0. ...   1.   1.   4.]\n",
      " [ 77.  23.   1. ...   0.   1.   2.]\n",
      " [126.  50.   1. ...   0.   1.   0.]\n",
      " ...\n",
      " [105.  16.   1. ...   0.   1.  10.]\n",
      " [ 38.  30.   0. ...   0.   0.   4.]\n",
      " [477.  14.   1. ...   1.   1.   0.]]\n",
      "\n",
      "Dataframe column taken as y input :\n",
      "------------------------------------\n",
      " ['legitimate' 'phishing' 'phishing' ... 'legitimate' 'legitimate'\n",
      " 'phishing']\n"
     ]
    }
   ],
   "source": [
    "df = df.drop('url', axis=1)\n",
    "\n",
    "# Initializing the X and y values from the dataframe columns respectively\n",
    "X = df.iloc[:, 0:87].values\n",
    "y = df.iloc[:, 87].values\n",
    "\n",
    "print('Dataframe columns taken as X input :\\n------------------------------------\\n',X)\n",
    "print('\\nDataframe column taken as y input :\\n------------------------------------\\n', y)"
   ]
  },
  {
   "cell_type": "code",
   "execution_count": 4,
   "id": "f3f10fbb",
   "metadata": {
    "execution": {
     "iopub.execute_input": "2023-06-15T11:30:40.740589Z",
     "iopub.status.busy": "2023-06-15T11:30:40.740246Z",
     "iopub.status.idle": "2023-06-15T11:30:41.403053Z",
     "shell.execute_reply": "2023-06-15T11:30:41.401966Z"
    },
    "papermill": {
     "duration": 0.671764,
     "end_time": "2023-06-15T11:30:41.405468",
     "exception": false,
     "start_time": "2023-06-15T11:30:40.733704",
     "status": "completed"
    },
    "tags": []
   },
   "outputs": [
    {
     "name": "stdout",
     "output_type": "stream",
     "text": [
      "Encoded y values :\n",
      "------------------\n",
      " [0 1 1 ... 0 0 1]\n"
     ]
    }
   ],
   "source": [
    "# Encoding the y input values into 0s and 1s, respectively to phishing and legitimate\n",
    "from sklearn.preprocessing import LabelEncoder\n",
    "\n",
    "encoder = LabelEncoder()\n",
    "y = encoder.fit_transform(y)\n",
    "print('Encoded y values :\\n------------------\\n', y)"
   ]
  },
  {
   "cell_type": "code",
   "execution_count": 5,
   "id": "19b42376",
   "metadata": {
    "execution": {
     "iopub.execute_input": "2023-06-15T11:30:41.417984Z",
     "iopub.status.busy": "2023-06-15T11:30:41.417112Z",
     "iopub.status.idle": "2023-06-15T11:30:41.526684Z",
     "shell.execute_reply": "2023-06-15T11:30:41.525735Z"
    },
    "papermill": {
     "duration": 0.118377,
     "end_time": "2023-06-15T11:30:41.529393",
     "exception": false,
     "start_time": "2023-06-15T11:30:41.411016",
     "status": "completed"
    },
    "tags": []
   },
   "outputs": [],
   "source": [
    "# Splitting the dataset into training set and testing set\n",
    "from sklearn.model_selection import train_test_split\n",
    "\n",
    "X_train, X_test, y_train, y_test = train_test_split(X, y, test_size = 0.3, random_state = 0) "
   ]
  },
  {
   "cell_type": "code",
   "execution_count": 6,
   "id": "04731afb",
   "metadata": {
    "execution": {
     "iopub.execute_input": "2023-06-15T11:30:41.541511Z",
     "iopub.status.busy": "2023-06-15T11:30:41.541215Z",
     "iopub.status.idle": "2023-06-15T11:30:41.556709Z",
     "shell.execute_reply": "2023-06-15T11:30:41.555853Z"
    },
    "papermill": {
     "duration": 0.023843,
     "end_time": "2023-06-15T11:30:41.558827",
     "exception": false,
     "start_time": "2023-06-15T11:30:41.534984",
     "status": "completed"
    },
    "tags": []
   },
   "outputs": [],
   "source": [
    "# Feature scaling the X values of training and testing data\n",
    "# Because we don't want one independent variable dominating the other, and it makes computations easy\n",
    "from sklearn.preprocessing import StandardScaler\n",
    "sc = StandardScaler()\n",
    "\n",
    "X_train = sc.fit_transform(X_train)\n",
    "X_test = sc.transform(X_test)"
   ]
  },
  {
   "cell_type": "code",
   "execution_count": 7,
   "id": "6a22e8e3",
   "metadata": {
    "execution": {
     "iopub.execute_input": "2023-06-15T11:30:41.570701Z",
     "iopub.status.busy": "2023-06-15T11:30:41.570396Z",
     "iopub.status.idle": "2023-06-15T11:30:41.577495Z",
     "shell.execute_reply": "2023-06-15T11:30:41.576512Z"
    },
    "papermill": {
     "duration": 0.015471,
     "end_time": "2023-06-15T11:30:41.579686",
     "exception": false,
     "start_time": "2023-06-15T11:30:41.564215",
     "status": "completed"
    },
    "tags": []
   },
   "outputs": [],
   "source": [
    "# Defining function returning f1-score validation \n",
    "import keras.backend as K\n",
    "def get_f1(y_true, y_pred): \n",
    "    true_positives = K.sum(K.round(K.clip(y_true * y_pred, 0, 1)))\n",
    "    possible_positives = K.sum(K.round(K.clip(y_true, 0, 1)))\n",
    "    predicted_positives = K.sum(K.round(K.clip(y_pred, 0, 1)))\n",
    "    precision = true_positives / (predicted_positives + K.epsilon())\n",
    "    recall = true_positives / (possible_positives + K.epsilon())\n",
    "    f1_val = 2*(precision*recall)/(precision+recall+K.epsilon())\n",
    "    return f1_val"
   ]
  },
  {
   "cell_type": "code",
   "execution_count": 8,
   "id": "8e427be5",
   "metadata": {
    "execution": {
     "iopub.execute_input": "2023-06-15T11:30:41.591462Z",
     "iopub.status.busy": "2023-06-15T11:30:41.591187Z",
     "iopub.status.idle": "2023-06-15T11:30:47.270128Z",
     "shell.execute_reply": "2023-06-15T11:30:47.268907Z"
    },
    "papermill": {
     "duration": 5.69484,
     "end_time": "2023-06-15T11:30:47.279831",
     "exception": false,
     "start_time": "2023-06-15T11:30:41.584991",
     "status": "completed"
    },
    "tags": []
   },
   "outputs": [],
   "source": [
    "import tensorflow as tf\n",
    "from keras import layers\n",
    "\n",
    "# Define the generator model\n",
    "def build_generator():\n",
    "    model = tf.keras.Sequential()\n",
    "    model.add(layers.Dense(256, input_shape=(87,)))\n",
    "    model.add(layers.LeakyReLU(alpha=0.2))\n",
    "    model.add(layers.Dense(512))\n",
    "    model.add(layers.LeakyReLU(alpha=0.2))\n",
    "    model.add(layers.Dense(1024))\n",
    "    model.add(layers.LeakyReLU(alpha=0.2))\n",
    "    model.add(layers.Dense(256 * 256 * 3, activation='tanh'))\n",
    "    model.add(layers.Reshape((256, 256, 3)))\n",
    "    return model\n",
    "\n",
    "# Define the discriminator model\n",
    "def build_discriminator():\n",
    "    model = tf.keras.Sequential()\n",
    "    model.add(layers.Conv2D(64, (3, 3), strides=(2, 2), padding='same', input_shape=(256, 256, 3)))\n",
    "    model.add(layers.LeakyReLU(alpha=0.2))\n",
    "    model.add(layers.Conv2D(128, (3, 3), strides=(2, 2), padding='same'))\n",
    "    model.add(layers.LeakyReLU(alpha=0.2))\n",
    "    model.add(layers.Conv2D(256, (3, 3), strides=(2, 2), padding='same'))\n",
    "    model.add(layers.LeakyReLU(alpha=0.2))\n",
    "    model.add(layers.Flatten())\n",
    "    model.add(layers.Dense(1, activation='sigmoid'))\n",
    "    return model\n",
    "\n",
    "# Define the combined generator and discriminator model\n",
    "def build_pix2pix(generator, discriminator):\n",
    "    model = tf.keras.Sequential()\n",
    "    model.add(generator)\n",
    "    discriminator.trainable = False\n",
    "    model.add(discriminator)\n",
    "    return model\n",
    "\n",
    "# Create the generator, discriminator, and Pix2Pix models\n",
    "generator = build_generator()\n",
    "discriminator = build_discriminator()\n",
    "pix2pix = build_pix2pix(generator, discriminator)"
   ]
  },
  {
   "cell_type": "code",
   "execution_count": 9,
   "id": "33634dc2",
   "metadata": {
    "execution": {
     "iopub.execute_input": "2023-06-15T11:30:47.304144Z",
     "iopub.status.busy": "2023-06-15T11:30:47.303857Z",
     "iopub.status.idle": "2023-06-15T11:30:47.666414Z",
     "shell.execute_reply": "2023-06-15T11:30:47.665255Z"
    },
    "papermill": {
     "duration": 0.373669,
     "end_time": "2023-06-15T11:30:47.668905",
     "exception": false,
     "start_time": "2023-06-15T11:30:47.295236",
     "status": "completed"
    },
    "tags": []
   },
   "outputs": [],
   "source": [
    "from tensorflow import metrics\n",
    "\n",
    "# Compiling the Pix2Pix\n",
    "pix2pix.compile(optimizer=tf.keras.optimizers.Adam(learning_rate=0.0002, beta_1=0.5), loss='binary_crossentropy', metrics = ['accuracy', metrics.Precision(), metrics.Recall(), get_f1])"
   ]
  },
  {
   "cell_type": "code",
   "execution_count": 10,
   "id": "aa0e5eff",
   "metadata": {
    "execution": {
     "iopub.execute_input": "2023-06-15T11:30:47.685646Z",
     "iopub.status.busy": "2023-06-15T11:30:47.685281Z",
     "iopub.status.idle": "2023-06-15T11:40:52.275766Z",
     "shell.execute_reply": "2023-06-15T11:40:52.274772Z"
    },
    "papermill": {
     "duration": 604.601499,
     "end_time": "2023-06-15T11:40:52.277970",
     "exception": false,
     "start_time": "2023-06-15T11:30:47.676471",
     "status": "completed"
    },
    "tags": []
   },
   "outputs": [
    {
     "name": "stdout",
     "output_type": "stream",
     "text": [
      "Epoch 1/50\n",
      "126/126 [==============================] - 22s 102ms/step - loss: 0.2160 - accuracy: 0.9209 - precision: 0.9237 - recall: 0.9165 - get_f1: 0.9173 - val_loss: 0.1523 - val_accuracy: 0.9428 - val_precision: 0.9298 - val_recall: 0.9597 - val_get_f1: 0.9425\n",
      "Epoch 2/50\n",
      "126/126 [==============================] - 13s 100ms/step - loss: 0.1326 - accuracy: 0.9510 - precision: 0.9521 - recall: 0.9492 - get_f1: 0.9424 - val_loss: 0.1399 - val_accuracy: 0.9481 - val_precision: 0.9551 - val_recall: 0.9419 - val_get_f1: 0.9469\n",
      "Epoch 3/50\n",
      "126/126 [==============================] - 12s 99ms/step - loss: 0.1111 - accuracy: 0.9590 - precision: 0.9590 - recall: 0.9585 - get_f1: 0.9589 - val_loss: 0.1377 - val_accuracy: 0.9507 - val_precision: 0.9465 - val_recall: 0.9569 - val_get_f1: 0.9503\n",
      "Epoch 4/50\n",
      "126/126 [==============================] - 12s 99ms/step - loss: 0.0949 - accuracy: 0.9625 - precision: 0.9616 - recall: 0.9630 - get_f1: 0.9539 - val_loss: 0.3588 - val_accuracy: 0.8895 - val_precision: 0.9850 - val_recall: 0.7941 - val_get_f1: 0.8781\n",
      "Epoch 5/50\n",
      "126/126 [==============================] - 12s 99ms/step - loss: 0.0998 - accuracy: 0.9630 - precision: 0.9675 - recall: 0.9577 - get_f1: 0.9621 - val_loss: 0.1447 - val_accuracy: 0.9525 - val_precision: 0.9477 - val_recall: 0.9592 - val_get_f1: 0.9521\n",
      "Epoch 6/50\n",
      "126/126 [==============================] - 12s 99ms/step - loss: 0.0713 - accuracy: 0.9738 - precision: 0.9743 - recall: 0.9728 - get_f1: 0.9733 - val_loss: 0.1341 - val_accuracy: 0.9586 - val_precision: 0.9678 - val_recall: 0.9500 - val_get_f1: 0.9573\n",
      "Epoch 7/50\n",
      "126/126 [==============================] - 11s 91ms/step - loss: 0.0594 - accuracy: 0.9794 - precision: 0.9811 - recall: 0.9774 - get_f1: 0.9785 - val_loss: 0.1322 - val_accuracy: 0.9571 - val_precision: 0.9528 - val_recall: 0.9632 - val_get_f1: 0.9569\n",
      "Epoch 8/50\n",
      "126/126 [==============================] - 11s 90ms/step - loss: 0.0499 - accuracy: 0.9826 - precision: 0.9843 - recall: 0.9806 - get_f1: 0.9744 - val_loss: 0.1633 - val_accuracy: 0.9560 - val_precision: 0.9676 - val_recall: 0.9448 - val_get_f1: 0.9550\n",
      "Epoch 9/50\n",
      "126/126 [==============================] - 11s 90ms/step - loss: 0.0453 - accuracy: 0.9851 - precision: 0.9847 - recall: 0.9854 - get_f1: 0.9850 - val_loss: 0.1663 - val_accuracy: 0.9560 - val_precision: 0.9506 - val_recall: 0.9632 - val_get_f1: 0.9558\n",
      "Epoch 10/50\n",
      "126/126 [==============================] - 13s 100ms/step - loss: 0.0439 - accuracy: 0.9843 - precision: 0.9849 - recall: 0.9834 - get_f1: 0.9837 - val_loss: 0.1699 - val_accuracy: 0.9563 - val_precision: 0.9682 - val_recall: 0.9448 - val_get_f1: 0.9554\n",
      "Epoch 11/50\n",
      "126/126 [==============================] - 11s 90ms/step - loss: 0.0314 - accuracy: 0.9881 - precision: 0.9884 - recall: 0.9877 - get_f1: 0.9881 - val_loss: 0.1704 - val_accuracy: 0.9554 - val_precision: 0.9720 - val_recall: 0.9390 - val_get_f1: 0.9542\n",
      "Epoch 12/50\n",
      "126/126 [==============================] - 11s 90ms/step - loss: 0.0219 - accuracy: 0.9929 - precision: 0.9937 - recall: 0.9920 - get_f1: 0.9927 - val_loss: 0.1841 - val_accuracy: 0.9609 - val_precision: 0.9557 - val_recall: 0.9678 - val_get_f1: 0.9609\n",
      "Epoch 13/50\n",
      "126/126 [==============================] - 13s 99ms/step - loss: 0.0268 - accuracy: 0.9905 - precision: 0.9909 - recall: 0.9899 - get_f1: 0.9827 - val_loss: 0.1821 - val_accuracy: 0.9574 - val_precision: 0.9564 - val_recall: 0.9597 - val_get_f1: 0.9564\n",
      "Epoch 14/50\n",
      "126/126 [==============================] - 11s 90ms/step - loss: 0.0179 - accuracy: 0.9949 - precision: 0.9952 - recall: 0.9945 - get_f1: 0.9948 - val_loss: 0.2249 - val_accuracy: 0.9565 - val_precision: 0.9749 - val_recall: 0.9385 - val_get_f1: 0.9548\n",
      "Epoch 15/50\n",
      "126/126 [==============================] - 12s 99ms/step - loss: 0.0172 - accuracy: 0.9933 - precision: 0.9942 - recall: 0.9922 - get_f1: 0.9854 - val_loss: 0.1971 - val_accuracy: 0.9627 - val_precision: 0.9648 - val_recall: 0.9615 - val_get_f1: 0.9621\n",
      "Epoch 16/50\n",
      "126/126 [==============================] - 12s 99ms/step - loss: 0.0156 - accuracy: 0.9949 - precision: 0.9952 - recall: 0.9945 - get_f1: 0.9947 - val_loss: 0.2175 - val_accuracy: 0.9522 - val_precision: 0.9477 - val_recall: 0.9586 - val_get_f1: 0.9519\n",
      "Epoch 17/50\n",
      "126/126 [==============================] - 11s 90ms/step - loss: 0.0232 - accuracy: 0.9930 - precision: 0.9947 - recall: 0.9912 - get_f1: 0.9929 - val_loss: 0.1984 - val_accuracy: 0.9577 - val_precision: 0.9612 - val_recall: 0.9551 - val_get_f1: 0.9571\n",
      "Epoch 18/50\n",
      "126/126 [==============================] - 12s 99ms/step - loss: 0.0085 - accuracy: 0.9984 - precision: 0.9990 - recall: 0.9977 - get_f1: 0.9904 - val_loss: 0.6865 - val_accuracy: 0.9008 - val_precision: 0.9902 - val_recall: 0.8125 - val_get_f1: 0.8890\n",
      "Epoch 19/50\n",
      "126/126 [==============================] - 12s 99ms/step - loss: 0.0588 - accuracy: 0.9829 - precision: 0.9878 - recall: 0.9776 - get_f1: 0.9827 - val_loss: 0.1941 - val_accuracy: 0.9551 - val_precision: 0.9589 - val_recall: 0.9523 - val_get_f1: 0.9541\n",
      "Epoch 20/50\n",
      "126/126 [==============================] - 12s 99ms/step - loss: 0.0112 - accuracy: 0.9966 - precision: 0.9975 - recall: 0.9957 - get_f1: 0.9886 - val_loss: 0.2136 - val_accuracy: 0.9580 - val_precision: 0.9650 - val_recall: 0.9517 - val_get_f1: 0.9574\n",
      "Epoch 21/50\n",
      "126/126 [==============================] - 12s 99ms/step - loss: 0.0088 - accuracy: 0.9975 - precision: 0.9977 - recall: 0.9972 - get_f1: 0.9894 - val_loss: 0.2149 - val_accuracy: 0.9580 - val_precision: 0.9650 - val_recall: 0.9517 - val_get_f1: 0.9572\n",
      "Epoch 22/50\n",
      "126/126 [==============================] - 12s 99ms/step - loss: 0.0044 - accuracy: 0.9990 - precision: 0.9997 - recall: 0.9982 - get_f1: 0.9911 - val_loss: 0.2225 - val_accuracy: 0.9589 - val_precision: 0.9656 - val_recall: 0.9528 - val_get_f1: 0.9581\n",
      "Epoch 23/50\n",
      "126/126 [==============================] - 11s 91ms/step - loss: 0.0029 - accuracy: 0.9991 - precision: 0.9995 - recall: 0.9987 - get_f1: 0.9991 - val_loss: 0.2409 - val_accuracy: 0.9589 - val_precision: 0.9635 - val_recall: 0.9551 - val_get_f1: 0.9583\n",
      "Epoch 24/50\n",
      "126/126 [==============================] - 12s 99ms/step - loss: 0.0026 - accuracy: 0.9995 - precision: 0.9995 - recall: 0.9995 - get_f1: 0.9916 - val_loss: 0.2550 - val_accuracy: 0.9571 - val_precision: 0.9533 - val_recall: 0.9626 - val_get_f1: 0.9566\n",
      "Epoch 25/50\n",
      "126/126 [==============================] - 11s 90ms/step - loss: 0.0017 - accuracy: 0.9998 - precision: 0.9997 - recall: 0.9997 - get_f1: 0.9918 - val_loss: 0.2489 - val_accuracy: 0.9595 - val_precision: 0.9566 - val_recall: 0.9638 - val_get_f1: 0.9588\n",
      "Epoch 26/50\n",
      "126/126 [==============================] - 11s 90ms/step - loss: 9.6566e-04 - accuracy: 1.0000 - precision: 1.0000 - recall: 1.0000 - get_f1: 0.9921 - val_loss: 0.2624 - val_accuracy: 0.9600 - val_precision: 0.9609 - val_recall: 0.9603 - val_get_f1: 0.9592\n",
      "Epoch 27/50\n",
      "126/126 [==============================] - 11s 90ms/step - loss: 0.0185 - accuracy: 0.9950 - precision: 0.9955 - recall: 0.9945 - get_f1: 0.9948 - val_loss: 0.2283 - val_accuracy: 0.9592 - val_precision: 0.9619 - val_recall: 0.9574 - val_get_f1: 0.9587\n",
      "Epoch 28/50\n",
      "126/126 [==============================] - 12s 99ms/step - loss: 0.0253 - accuracy: 0.9908 - precision: 0.9917 - recall: 0.9897 - get_f1: 0.9906 - val_loss: 0.2117 - val_accuracy: 0.9595 - val_precision: 0.9608 - val_recall: 0.9592 - val_get_f1: 0.9589\n",
      "Epoch 29/50\n",
      "126/126 [==============================] - 13s 99ms/step - loss: 0.0096 - accuracy: 0.9968 - precision: 0.9975 - recall: 0.9960 - get_f1: 0.9967 - val_loss: 0.2185 - val_accuracy: 0.9577 - val_precision: 0.9513 - val_recall: 0.9661 - val_get_f1: 0.9578\n",
      "Epoch 30/50\n",
      "126/126 [==============================] - 12s 99ms/step - loss: 0.0033 - accuracy: 0.9993 - precision: 0.9992 - recall: 0.9992 - get_f1: 0.9912 - val_loss: 0.2358 - val_accuracy: 0.9603 - val_precision: 0.9614 - val_recall: 0.9603 - val_get_f1: 0.9598\n",
      "Epoch 31/50\n",
      "126/126 [==============================] - 11s 90ms/step - loss: 0.0016 - accuracy: 0.9998 - precision: 0.9997 - recall: 0.9997 - get_f1: 0.9918 - val_loss: 0.2392 - val_accuracy: 0.9612 - val_precision: 0.9658 - val_recall: 0.9574 - val_get_f1: 0.9607\n",
      "Epoch 32/50\n",
      "126/126 [==============================] - 11s 90ms/step - loss: 8.3666e-04 - accuracy: 0.9999 - precision: 0.9997 - recall: 1.0000 - get_f1: 0.9919 - val_loss: 0.2466 - val_accuracy: 0.9600 - val_precision: 0.9679 - val_recall: 0.9528 - val_get_f1: 0.9591\n",
      "Epoch 33/50\n",
      "126/126 [==============================] - 11s 90ms/step - loss: 0.0022 - accuracy: 0.9996 - precision: 0.9995 - recall: 0.9997 - get_f1: 0.9996 - val_loss: 0.2611 - val_accuracy: 0.9598 - val_precision: 0.9624 - val_recall: 0.9580 - val_get_f1: 0.9591\n",
      "Epoch 34/50\n",
      "126/126 [==============================] - 11s 90ms/step - loss: 0.0017 - accuracy: 0.9995 - precision: 0.9995 - recall: 0.9995 - get_f1: 0.9995 - val_loss: 0.2701 - val_accuracy: 0.9595 - val_precision: 0.9667 - val_recall: 0.9528 - val_get_f1: 0.9585\n",
      "Epoch 35/50\n",
      "126/126 [==============================] - 11s 90ms/step - loss: 0.0011 - accuracy: 0.9998 - precision: 0.9997 - recall: 0.9997 - get_f1: 0.9918 - val_loss: 0.2701 - val_accuracy: 0.9603 - val_precision: 0.9684 - val_recall: 0.9528 - val_get_f1: 0.9592\n",
      "Epoch 36/50\n",
      "126/126 [==============================] - 12s 99ms/step - loss: 0.0016 - accuracy: 0.9998 - precision: 0.9997 - recall: 0.9997 - get_f1: 0.9918 - val_loss: 0.2742 - val_accuracy: 0.9598 - val_precision: 0.9657 - val_recall: 0.9546 - val_get_f1: 0.9589\n",
      "Epoch 37/50\n",
      "126/126 [==============================] - 11s 90ms/step - loss: 3.9959e-04 - accuracy: 1.0000 - precision: 1.0000 - recall: 1.0000 - get_f1: 0.9921 - val_loss: 0.2808 - val_accuracy: 0.9603 - val_precision: 0.9663 - val_recall: 0.9551 - val_get_f1: 0.9594\n",
      "Epoch 38/50\n",
      "126/126 [==============================] - 12s 99ms/step - loss: 3.0873e-04 - accuracy: 1.0000 - precision: 1.0000 - recall: 1.0000 - get_f1: 1.0000 - val_loss: 0.2776 - val_accuracy: 0.9606 - val_precision: 0.9679 - val_recall: 0.9540 - val_get_f1: 0.9597\n",
      "Epoch 39/50\n",
      "126/126 [==============================] - 11s 91ms/step - loss: 3.1414e-04 - accuracy: 1.0000 - precision: 1.0000 - recall: 1.0000 - get_f1: 0.9921 - val_loss: 0.2917 - val_accuracy: 0.9598 - val_precision: 0.9641 - val_recall: 0.9563 - val_get_f1: 0.9587\n",
      "Epoch 40/50\n",
      "126/126 [==============================] - 12s 99ms/step - loss: 0.0098 - accuracy: 0.9985 - precision: 0.9985 - recall: 0.9985 - get_f1: 0.9905 - val_loss: 0.4139 - val_accuracy: 0.9425 - val_precision: 0.9568 - val_recall: 0.9287 - val_get_f1: 0.9401\n",
      "Epoch 41/50\n",
      "126/126 [==============================] - 11s 90ms/step - loss: 0.0482 - accuracy: 0.9865 - precision: 0.9857 - recall: 0.9872 - get_f1: 0.9786 - val_loss: 0.1896 - val_accuracy: 0.9536 - val_precision: 0.9509 - val_recall: 0.9580 - val_get_f1: 0.9530\n",
      "Epoch 42/50\n",
      "126/126 [==============================] - 12s 99ms/step - loss: 0.0105 - accuracy: 0.9969 - precision: 0.9967 - recall: 0.9970 - get_f1: 0.9969 - val_loss: 0.2054 - val_accuracy: 0.9609 - val_precision: 0.9599 - val_recall: 0.9632 - val_get_f1: 0.9603\n",
      "Epoch 43/50\n",
      "126/126 [==============================] - 11s 90ms/step - loss: 0.0034 - accuracy: 0.9990 - precision: 0.9992 - recall: 0.9987 - get_f1: 0.9990 - val_loss: 0.2137 - val_accuracy: 0.9630 - val_precision: 0.9675 - val_recall: 0.9592 - val_get_f1: 0.9623\n",
      "Epoch 44/50\n",
      "126/126 [==============================] - 11s 90ms/step - loss: 8.5645e-04 - accuracy: 1.0000 - precision: 1.0000 - recall: 1.0000 - get_f1: 0.9921 - val_loss: 0.2353 - val_accuracy: 0.9635 - val_precision: 0.9670 - val_recall: 0.9609 - val_get_f1: 0.9625\n",
      "Epoch 45/50\n",
      "126/126 [==============================] - 11s 90ms/step - loss: 5.9641e-04 - accuracy: 0.9999 - precision: 0.9997 - recall: 1.0000 - get_f1: 0.9999 - val_loss: 0.2398 - val_accuracy: 0.9635 - val_precision: 0.9686 - val_recall: 0.9592 - val_get_f1: 0.9630\n",
      "Epoch 46/50\n",
      "126/126 [==============================] - 11s 90ms/step - loss: 6.6927e-04 - accuracy: 0.9999 - precision: 0.9997 - recall: 1.0000 - get_f1: 0.9920 - val_loss: 0.2400 - val_accuracy: 0.9644 - val_precision: 0.9714 - val_recall: 0.9580 - val_get_f1: 0.9636\n",
      "Epoch 47/50\n",
      "126/126 [==============================] - 11s 90ms/step - loss: 6.4315e-04 - accuracy: 0.9998 - precision: 1.0000 - recall: 0.9995 - get_f1: 0.9918 - val_loss: 0.2534 - val_accuracy: 0.9633 - val_precision: 0.9697 - val_recall: 0.9574 - val_get_f1: 0.9623\n",
      "Epoch 48/50\n",
      "126/126 [==============================] - 13s 100ms/step - loss: 7.7659e-04 - accuracy: 0.9998 - precision: 0.9997 - recall: 0.9997 - get_f1: 0.9997 - val_loss: 0.2544 - val_accuracy: 0.9630 - val_precision: 0.9686 - val_recall: 0.9580 - val_get_f1: 0.9623\n",
      "Epoch 49/50\n",
      "126/126 [==============================] - 11s 90ms/step - loss: 2.9226e-04 - accuracy: 0.9999 - precision: 0.9997 - recall: 1.0000 - get_f1: 0.9999 - val_loss: 0.2562 - val_accuracy: 0.9633 - val_precision: 0.9675 - val_recall: 0.9597 - val_get_f1: 0.9627\n",
      "Epoch 50/50\n",
      "126/126 [==============================] - 11s 90ms/step - loss: 2.8038e-04 - accuracy: 0.9999 - precision: 1.0000 - recall: 0.9997 - get_f1: 0.9999 - val_loss: 0.2661 - val_accuracy: 0.9627 - val_precision: 0.9686 - val_recall: 0.9574 - val_get_f1: 0.9618\n",
      "CPU times: user 6min 25s, sys: 8.84 s, total: 6min 33s\n",
      "Wall time: 10min 4s\n"
     ]
    }
   ],
   "source": [
    "# Fitting the Pix2Pix to the training set and validating with testing set\n",
    "%time history = pix2pix.fit(X_train, y_train, validation_data=(X_test, y_test), batch_size=64, epochs=50)"
   ]
  },
  {
   "cell_type": "code",
   "execution_count": 11,
   "id": "02b8ef91",
   "metadata": {
    "execution": {
     "iopub.execute_input": "2023-06-15T11:40:53.270226Z",
     "iopub.status.busy": "2023-06-15T11:40:53.269530Z",
     "iopub.status.idle": "2023-06-15T11:40:55.881819Z",
     "shell.execute_reply": "2023-06-15T11:40:55.880417Z"
    },
    "papermill": {
     "duration": 3.112569,
     "end_time": "2023-06-15T11:40:55.884568",
     "exception": false,
     "start_time": "2023-06-15T11:40:52.771999",
     "status": "completed"
    },
    "tags": []
   },
   "outputs": [
    {
     "name": "stdout",
     "output_type": "stream",
     "text": [
      "108/108 - 2s - loss: 0.2661 - accuracy: 0.9627 - precision: 0.9686 - recall: 0.9574 - get_f1: 0.9591 - 2s/epoch - 17ms/step\n",
      "CPU times: user 811 ms, sys: 36.5 ms, total: 848 ms\n",
      "Wall time: 2.61 s\n"
     ]
    }
   ],
   "source": [
    "# Evaluating the Pix2Pix model\n",
    "%time loss, accuracy, precision, recall, f1 = pix2pix.evaluate(X_test, y_test, verbose=2)"
   ]
  },
  {
   "cell_type": "code",
   "execution_count": 12,
   "id": "e9f41907",
   "metadata": {
    "execution": {
     "iopub.execute_input": "2023-06-15T11:40:56.915293Z",
     "iopub.status.busy": "2023-06-15T11:40:56.914941Z",
     "iopub.status.idle": "2023-06-15T11:40:59.632277Z",
     "shell.execute_reply": "2023-06-15T11:40:59.630332Z"
    },
    "papermill": {
     "duration": 3.210037,
     "end_time": "2023-06-15T11:40:59.634519",
     "exception": false,
     "start_time": "2023-06-15T11:40:56.424482",
     "status": "completed"
    },
    "tags": []
   },
   "outputs": [
    {
     "name": "stdout",
     "output_type": "stream",
     "text": [
      "108/108 [==============================] - 2s 13ms/step\n",
      "[[False]\n",
      " [ True]\n",
      " [ True]\n",
      " ...\n",
      " [False]\n",
      " [ True]\n",
      " [False]]\n"
     ]
    }
   ],
   "source": [
    "# Predicting the testing set results\n",
    "y_pred = pix2pix.predict(X_test)\n",
    "y_pred = (y_pred > 0.5)\n",
    "print(y_pred)"
   ]
  },
  {
   "cell_type": "code",
   "execution_count": 13,
   "id": "4446640a",
   "metadata": {
    "execution": {
     "iopub.execute_input": "2023-06-15T11:41:00.643591Z",
     "iopub.status.busy": "2023-06-15T11:41:00.642689Z",
     "iopub.status.idle": "2023-06-15T11:41:00.652357Z",
     "shell.execute_reply": "2023-06-15T11:41:00.651423Z"
    },
    "papermill": {
     "duration": 0.512524,
     "end_time": "2023-06-15T11:41:00.654436",
     "exception": false,
     "start_time": "2023-06-15T11:41:00.141912",
     "status": "completed"
    },
    "tags": []
   },
   "outputs": [
    {
     "name": "stdout",
     "output_type": "stream",
     "text": [
      "Accuracy :  0.9626713327500729\n"
     ]
    }
   ],
   "source": [
    "# Determining the accuracy of the model \n",
    "from sklearn.metrics import accuracy_score \n",
    "\n",
    "accuracy = accuracy_score(y_test, y_pred)\n",
    "print('Accuracy : ',accuracy)"
   ]
  },
  {
   "cell_type": "code",
   "execution_count": 14,
   "id": "3c57b8ce",
   "metadata": {
    "execution": {
     "iopub.execute_input": "2023-06-15T11:41:01.652265Z",
     "iopub.status.busy": "2023-06-15T11:41:01.651913Z",
     "iopub.status.idle": "2023-06-15T11:41:01.660180Z",
     "shell.execute_reply": "2023-06-15T11:41:01.659148Z"
    },
    "papermill": {
     "duration": 0.52139,
     "end_time": "2023-06-15T11:41:01.663278",
     "exception": false,
     "start_time": "2023-06-15T11:41:01.141888",
     "status": "completed"
    },
    "tags": []
   },
   "outputs": [
    {
     "name": "stdout",
     "output_type": "stream",
     "text": [
      "[[1636   54]\n",
      " [  74 1665]]\n"
     ]
    }
   ],
   "source": [
    "# Making the confusion matrix\n",
    "from sklearn.metrics import confusion_matrix\n",
    "cm = confusion_matrix(y_test, y_pred)\n",
    "print(cm)"
   ]
  },
  {
   "cell_type": "code",
   "execution_count": 15,
   "id": "ae19d1bd",
   "metadata": {
    "execution": {
     "iopub.execute_input": "2023-06-15T11:41:02.705871Z",
     "iopub.status.busy": "2023-06-15T11:41:02.705494Z",
     "iopub.status.idle": "2023-06-15T11:41:03.230017Z",
     "shell.execute_reply": "2023-06-15T11:41:03.229105Z"
    },
    "papermill": {
     "duration": 1.026823,
     "end_time": "2023-06-15T11:41:03.232088",
     "exception": false,
     "start_time": "2023-06-15T11:41:02.205265",
     "status": "completed"
    },
    "tags": []
   },
   "outputs": [
    {
     "data": {
      "text/plain": [
       "Text(0.5, 23.52222222222222, 'Predicted label')"
      ]
     },
     "execution_count": 15,
     "metadata": {},
     "output_type": "execute_result"
    },
    {
     "data": {
      "image/png": "[encoded data removed]",
      "text/plain": [
       "<Figure size 640x480 with 2 Axes>"
      ]
     },
     "metadata": {},
     "output_type": "display_data"
    }
   ],
   "source": [
    "# Visualizing the confusion matrix\n",
    "import seaborn as sns\n",
    "import matplotlib.pyplot as plt\n",
    "\n",
    "p = sns.heatmap(pd.DataFrame(cm), annot=True, cmap=\"YlGnBu\" ,fmt='g')\n",
    "plt.title('Confusion matrix', y=1.1)\n",
    "plt.ylabel('Actual label')\n",
    "plt.xlabel('Predicted label')"
   ]
  },
  {
   "cell_type": "code",
   "execution_count": 16,
   "id": "d27e59f2",
   "metadata": {
    "execution": {
     "iopub.execute_input": "2023-06-15T11:41:04.281769Z",
     "iopub.status.busy": "2023-06-15T11:41:04.281404Z",
     "iopub.status.idle": "2023-06-15T11:41:04.299140Z",
     "shell.execute_reply": "2023-06-15T11:41:04.297656Z"
    },
    "papermill": {
     "duration": 0.568615,
     "end_time": "2023-06-15T11:41:04.301198",
     "exception": false,
     "start_time": "2023-06-15T11:41:03.732583",
     "status": "completed"
    },
    "tags": []
   },
   "outputs": [
    {
     "name": "stdout",
     "output_type": "stream",
     "text": [
      "              precision    recall  f1-score   support\n",
      "\n",
      "           0       0.96      0.97      0.96      1690\n",
      "           1       0.97      0.96      0.96      1739\n",
      "\n",
      "    accuracy                           0.96      3429\n",
      "   macro avg       0.96      0.96      0.96      3429\n",
      "weighted avg       0.96      0.96      0.96      3429\n",
      "\n"
     ]
    }
   ],
   "source": [
    "# Making the classification report\n",
    "from sklearn.metrics import classification_report\n",
    "\n",
    "report = classification_report(y_test, y_pred, labels=[0, 1], zero_division=1)\n",
    "print(report)"
   ]
  },
  {
   "cell_type": "code",
   "execution_count": 17,
   "id": "cccc8393",
   "metadata": {
    "execution": {
     "iopub.execute_input": "2023-06-15T11:41:05.308153Z",
     "iopub.status.busy": "2023-06-15T11:41:05.307413Z",
     "iopub.status.idle": "2023-06-15T11:41:08.181047Z",
     "shell.execute_reply": "2023-06-15T11:41:08.180168Z"
    },
    "papermill": {
     "duration": 3.382711,
     "end_time": "2023-06-15T11:41:08.183055",
     "exception": false,
     "start_time": "2023-06-15T11:41:04.800344",
     "status": "completed"
    },
    "tags": []
   },
   "outputs": [
    {
     "name": "stdout",
     "output_type": "stream",
     "text": [
      "108/108 [==============================] - 1s 14ms/step\n"
     ]
    },
    {
     "data": {
      "image/png": "[encoded data removed]",
      "text/plain": [
       "<Figure size 640x480 with 1 Axes>"
      ]
     },
     "metadata": {},
     "output_type": "display_data"
    }
   ],
   "source": [
    "# Graphing the ROC curve\n",
    "from sklearn.metrics import roc_curve\n",
    "y_pred_proba = pix2pix.predict(X_test)\n",
    "\n",
    "precision, recall, f1 = roc_curve(y_test, y_pred_proba)\n",
    "plt.plot([0,1],[0,1],'k--')\n",
    "\n",
    "plt.plot(precision, recall, label='Pix2Pix')\n",
    "plt.xlabel('False Positive Rate (Precision)') #FPR, Precision - probability of a false alarm) \n",
    "plt.ylabel('True Positive Rate (Recall)') #TPR, also known as Recall)\n",
    "plt.title('ROC curve')\n",
    "plt.show()"
   ]
  },
  {
   "cell_type": "code",
   "execution_count": 18,
   "id": "b7bff3ba",
   "metadata": {
    "execution": {
     "iopub.execute_input": "2023-06-15T11:41:09.184899Z",
     "iopub.status.busy": "2023-06-15T11:41:09.184511Z",
     "iopub.status.idle": "2023-06-15T11:41:09.198129Z",
     "shell.execute_reply": "2023-06-15T11:41:09.197130Z"
    },
    "papermill": {
     "duration": 0.520478,
     "end_time": "2023-06-15T11:41:09.200322",
     "exception": false,
     "start_time": "2023-06-15T11:41:08.679844",
     "status": "completed"
    },
    "tags": []
   },
   "outputs": [
    {
     "data": {
      "text/plain": [
       "0.991152161855926"
      ]
     },
     "execution_count": 18,
     "metadata": {},
     "output_type": "execute_result"
    }
   ],
   "source": [
    "# Determining the area under ROC curve\n",
    "from sklearn.metrics import roc_auc_score\n",
    "roc_auc_score(y_test,y_pred_proba)"
   ]
  }
 ],
 "metadata": {
  "kernelspec": {
   "display_name": "Python 3",
   "language": "python",
   "name": "python3"
  },
  "language_info": {
   "codemirror_mode": {
    "name": "ipython",
    "version": 3
   },
   "file_extension": ".py",
   "mimetype": "text/x-python",
   "name": "python",
   "nbconvert_exporter": "python",
   "pygments_lexer": "ipython3",
   "version": "3.10.10"
  },
  "papermill": {
   "default_parameters": {},
   "duration": 655.191435,
   "end_time": "2023-06-15T11:41:13.663491",
   "environment_variables": {},
   "exception": null,
   "input_path": "__notebook__.ipynb",
   "output_path": "__notebook__.ipynb",
   "parameters": {},
   "start_time": "2023-06-15T11:30:18.472056",
   "version": "2.4.0"
  }
 },
 "nbformat": 4,
 "nbformat_minor": 5
}
